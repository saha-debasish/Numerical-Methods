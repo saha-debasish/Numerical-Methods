{
 "cells": [
  {
   "cell_type": "markdown",
   "id": "1357e66e",
   "metadata": {},
   "source": [
    "A factorial is a mathematical function that has the following expression\n",
    "$$\n",
    "n! = n\\cdot(n-1)\\cdot(n-2)\\cdot\\cdot\\cdot 3\\cdot 2\\cdot 1\n",
    "$$\n",
    "where $n$ is positive integer."
   ]
  },
  {
   "cell_type": "code",
   "execution_count": 11,
   "id": "6219203f",
   "metadata": {},
   "outputs": [],
   "source": [
    "def factorial(n):\n",
    "    \"\"\"\n",
    "    This is a function that gives the factorial\n",
    "    of any positive integer. The formula is\n",
    "    N! = N*(n-1)*(N-2)* ... *3*2*1\n",
    "    \"\"\"\n",
    "    fact = 1\n",
    "    for i in range(1,n+1):\n",
    "        fact = fact*i\n",
    "        \n",
    "    return fact"
   ]
  },
  {
   "cell_type": "code",
   "execution_count": 16,
   "id": "95d0ac05",
   "metadata": {},
   "outputs": [
    {
     "name": "stdout",
     "output_type": "stream",
     "text": [
      "Enter any positive integer number5\n",
      "5! = 120\n"
     ]
    }
   ],
   "source": [
    "N = int(input(\"Enter any positive integer number\"))\n",
    "print(\"{0}! = {1}\".format(N,factorial(N)))"
   ]
  },
  {
   "cell_type": "code",
   "execution_count": null,
   "id": "8384d58a",
   "metadata": {},
   "outputs": [],
   "source": []
  }
 ],
 "metadata": {
  "kernelspec": {
   "display_name": "Python 3 (ipykernel)",
   "language": "python",
   "name": "python3"
  },
  "language_info": {
   "codemirror_mode": {
    "name": "ipython",
    "version": 3
   },
   "file_extension": ".py",
   "mimetype": "text/x-python",
   "name": "python",
   "nbconvert_exporter": "python",
   "pygments_lexer": "ipython3",
   "version": "3.11.5"
  }
 },
 "nbformat": 4,
 "nbformat_minor": 5
}
